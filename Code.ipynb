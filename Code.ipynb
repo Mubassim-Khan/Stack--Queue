{
 "cells": [
  {
   "cell_type": "markdown",
   "metadata": {},
   "source": [
    "# Palindrome Checker"
   ]
  },
  {
   "cell_type": "markdown",
   "metadata": {},
   "source": [
    "### Objective 1"
   ]
  },
  {
   "cell_type": "code",
   "execution_count": 19,
   "metadata": {},
   "outputs": [
    {
     "name": "stdout",
     "output_type": "stream",
     "text": [
      "My G\n",
      "String is NOT a Palindrome\n"
     ]
    }
   ],
   "source": [
    "str = input(\"Enter a string to check Palindrome: \")\n",
    "print(str)\n",
    "str = str.lower()\n",
    "stack = []\n",
    "str1 = \"\"\n",
    "\n",
    "for ch in str:\n",
    "    if(ch != \" \"):\n",
    "        stack.append(ch)\n",
    "        str1 = str1 + ch\n",
    "    \n",
    "str2= \"\"\n",
    "\n",
    "for item in range(len(stack)):\n",
    "    ch = stack.pop()\n",
    "    str2 = str2 + ch\n",
    "\n",
    "if str1 == str2:\n",
    "    print(\"String is a Palindrome\")\n",
    "else:\n",
    "  print(\"String is NOT a Palindrome\")"
   ]
  },
  {
   "cell_type": "markdown",
   "metadata": {},
   "source": [
    "### Objective 2"
   ]
  },
  {
   "cell_type": "code",
   "execution_count": 22,
   "metadata": {},
   "outputs": [
    {
     "name": "stdout",
     "output_type": "stream",
     "text": [
      "nikin\n",
      "String is a Palindrome\n"
     ]
    }
   ],
   "source": [
    "string = input(\"Enter string to check Palindrome: \")\n",
    "print(string)\n",
    "string = string.lower()\n",
    "deque = []\n",
    "\n",
    "for item in string:\n",
    "    deque.append(item)\n",
    "\n",
    "length = len(deque) // 2\n",
    "is_palindrome = True\n",
    "\n",
    "for i in range(length):\n",
    "    first_element = deque.pop(0)\n",
    "    last_element = deque.pop()\n",
    "    if first_element != last_element:\n",
    "      is_palindrome = False\n",
    "      break\n",
    "\n",
    "if is_palindrome == False:\n",
    "   print(\"String is NOT a Palindrome\")\n",
    "else:\n",
    "   print(\"String is a Palindrome\")"
   ]
  },
  {
   "cell_type": "markdown",
   "metadata": {},
   "source": [
    "# Queue & Dequeue"
   ]
  },
  {
   "cell_type": "markdown",
   "metadata": {},
   "source": [
    "### Objective 3"
   ]
  },
  {
   "cell_type": "code",
   "execution_count": 56,
   "metadata": {},
   "outputs": [
    {
     "name": "stdout",
     "output_type": "stream",
     "text": [
      "Total time taken for Queue & Dequeue operation in 8 iterations is: 0.0146 seconds\n"
     ]
    }
   ],
   "source": [
    "# Function to enqueue and dequeue N integers using a Python list\n",
    "import time\n",
    "\n",
    "def queue_dequeue(N):\n",
    "    my_list = []\n",
    "    for i in range(1, N + 1):\n",
    "        my_list.append(i)  # Enqueue N integers\n",
    "\n",
    "    for _ in range(N):\n",
    "        my_list.pop(0)  # Dequeue N elements\n",
    "\n",
    "M = int(input(\"Enter integers to queue: \"))\n",
    "N = int(input(\"Enter no. of times program to run: \"))\n",
    "\n",
    "total_time = 0  # Initialize total time\n",
    "\n",
    "for _ in range(M):\n",
    "    start_time = time.perf_counter()  # Start timer\n",
    "    queue_dequeue(N)\n",
    "    end_time = time.perf_counter()  # Stop timer\n",
    "\n",
    "    execution_time = end_time - start_time\n",
    "    total_time += execution_time\n",
    "\n",
    "print(f\"Total time taken for Queue & Dequeue operation in {N} iterations is: {round(total_time, 4)} seconds\")\n"
   ]
  }
 ],
 "metadata": {
  "kernelspec": {
   "display_name": "Python 3",
   "language": "python",
   "name": "python3"
  },
  "language_info": {
   "codemirror_mode": {
    "name": "ipython",
    "version": 3
   },
   "file_extension": ".py",
   "mimetype": "text/x-python",
   "name": "python",
   "nbconvert_exporter": "python",
   "pygments_lexer": "ipython3",
   "version": "3.10.0"
  },
  "orig_nbformat": 4
 },
 "nbformat": 4,
 "nbformat_minor": 2
}

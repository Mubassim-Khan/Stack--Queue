{
 "cells": [
  {
   "cell_type": "markdown",
   "metadata": {},
   "source": [
    "# Palindrome Checker"
   ]
  },
  {
   "cell_type": "markdown",
   "metadata": {},
   "source": [
    "### Objective 1"
   ]
  },
  {
   "cell_type": "code",
   "execution_count": 9,
   "metadata": {},
   "outputs": [
    {
     "name": "stdout",
     "output_type": "stream",
     "text": [
      "Your Input:  Poor Dan is in a droop\n",
      "String is a Palindrome\n",
      "Total time taken to check Palindrome is: 0.013 seconds\n"
     ]
    }
   ],
   "source": [
    "import time\n",
    "\n",
    "str = input(\"Enter a string to check Palindrome: \")\n",
    "print(\"Your Input: \", str)\n",
    "str = str.lower()   # Converted to lowercase\n",
    "stack = []      # Stack as a List initialized\n",
    "str1 = \"\"\n",
    "str2= \"\"\n",
    "total_time = 0      # Total time set to 0\n",
    "\n",
    "# Start time counter\n",
    "start_time = time.perf_counter()\n",
    "\n",
    "# 1st loop to remove spaces and PUSH input in stack, str as a character\n",
    "for ch in str:\n",
    "    if(ch != \" \"):\n",
    "        stack.append(ch)\n",
    "        str1 = str1 + ch\n",
    "\n",
    "# 2nd loop to POP out elements from stack\n",
    "for item in range(len(stack)):\n",
    "    ch = stack.pop()\n",
    "    str2 = str2 + ch\n",
    "    \n",
    "# Stop time counter & calculate total_time \n",
    "    end_time = time.perf_counter()  \n",
    "    execution_time = end_time - start_time\n",
    "    total_time += execution_time\n",
    "\n",
    "if str1 == str2:\n",
    "    print(\"String is a Palindrome\")\n",
    "    print(f\"Total time taken to check Palindrome is: {round(total_time, 4)} seconds\")\n",
    "\n",
    "else:\n",
    "  print(\"String is NOT a Palindrome\")"
   ]
  },
  {
   "cell_type": "markdown",
   "metadata": {},
   "source": [
    "### Objective 2"
   ]
  },
  {
   "cell_type": "code",
   "execution_count": 14,
   "metadata": {},
   "outputs": [
    {
     "name": "stdout",
     "output_type": "stream",
     "text": [
      "Your Input:  Poor Dan is in a droop\n",
      "String is a Palindrome\n",
      "Total time taken to check Palindrome is: 0.0006 seconds\n"
     ]
    }
   ],
   "source": [
    "import time\n",
    "\n",
    "string = input(\"Enter string to check Palindrome: \")\n",
    "print(\"Your Input: \", string)\n",
    "string = string.lower().replace(\" \", \"\")    # Convert to lowercase & remove white spaces\n",
    "dequeue = []      # Initialized Dequeue as a List\n",
    "is_palindrome = True\n",
    "total_time = 0      # Initial Time set to 0\n",
    "\n",
    "# Time counter Started\n",
    "start_time = time.perf_counter()\n",
    "\n",
    "for item in string:\n",
    "    dequeue.append(item)    # Pushing elements in Dequeue\n",
    "\n",
    "length = len(dequeue) // 2\n",
    "\n",
    "for i in range(length):\n",
    "    first_element = dequeue.pop(0)      # Popping out 1st element\n",
    "    last_element = dequeue.pop()        # Popping out last element\n",
    "\n",
    "    if first_element != last_element:\n",
    "      is_palindrome = False\n",
    "      break\n",
    "\n",
    "# Time counter Stopped\n",
    "end_time = time.perf_counter()  \n",
    "execution_time = end_time - start_time\n",
    "total_time += execution_time\n",
    "\n",
    "if is_palindrome == False:\n",
    "   print(\"String is NOT a Palindrome\")\n",
    "else:\n",
    "   print(\"String is a Palindrome\")\n",
    "   print(f\"Total time taken to check Palindrome is: {round(total_time, 4)} seconds\")\n"
   ]
  },
  {
   "cell_type": "markdown",
   "metadata": {},
   "source": [
    "# Queue & Dequeue"
   ]
  },
  {
   "cell_type": "markdown",
   "metadata": {},
   "source": [
    "### Objective 3"
   ]
  },
  {
   "cell_type": "code",
   "execution_count": 62,
   "metadata": {},
   "outputs": [
    {
     "name": "stdout",
     "output_type": "stream",
     "text": [
      "Enter integers to Queue & Dequeue:  128208\n",
      "Enter no. of times program to run:  23\n",
      "Total time taken for Queue & Dequeue operation in 23 iterations is: 2.3913 seconds\n"
     ]
    }
   ],
   "source": [
    "import time\n",
    "\n",
    "def queue_dequeue(N):\n",
    "    my_list = []\n",
    "    for i in range(1, N + 1):\n",
    "        my_list.append(i)  # Enqueue N integers\n",
    "\n",
    "    for _ in range(N):\n",
    "        my_list.pop(0)  # Dequeue N elements\n",
    "\n",
    "M = int(input(\"Enter integers to Queue & Dequeue: \"))\n",
    "print(\"Enter integers to Queue & Dequeue: \", M)\n",
    "\n",
    "N = int(input(\"Enter no. of times program to run: \"))\n",
    "print(\"Enter no. of times program to run: \", N)\n",
    "\n",
    "total_time = 0 \n",
    "\n",
    "for _ in range(M):\n",
    "    start_time = time.perf_counter()\n",
    "    queue_dequeue(N)\n",
    "    end_time = time.perf_counter()\n",
    "\n",
    "    execution_time = end_time - start_time\n",
    "    total_time += execution_time\n",
    "\n",
    "print(f\"Total time taken for Queue & Dequeue operation in {N} iterations is: {round(total_time, 4)} seconds\")\n"
   ]
  },
  {
   "cell_type": "markdown",
   "metadata": {},
   "source": [
    "### Objective 4"
   ]
  },
  {
   "cell_type": "markdown",
   "metadata": {},
   "source": [
    "##### Queue Linked List"
   ]
  },
  {
   "cell_type": "code",
   "execution_count": 63,
   "metadata": {},
   "outputs": [
    {
     "name": "stdout",
     "output_type": "stream",
     "text": [
      "Elements in Queue:  ['23', '4', '9', '0', '5']\n",
      "\n",
      "Popped Element at Position 2 is: 4\n",
      "Element in front of Queue is now: 23\n",
      "['23', '9', '0', '5']\n"
     ]
    }
   ],
   "source": [
    "queue = []\n",
    "\n",
    "# Take user input to enqueue elements into the queue\n",
    "n = int(input(\"Enter the number of elements to enqueue into the queue: \"))\n",
    "for i in range(n):\n",
    "    element = input(f\"Enter element {i + 1}: \")\n",
    "    queue.append(element)\n",
    "\n",
    "print(\"Elements in Queue: \", queue)     # Queue after user input\n",
    "\n",
    "# Dequeue an element from the queue\n",
    "if queue:\n",
    "    num = int(input(\"Enter position of number to deque\")) - 1\n",
    "    dequeued_element = queue.pop(num)\n",
    "    print(f\"\\nPopped Element at Position {num+1} is: {dequeued_element}\")\n",
    "\n",
    "# Peek at the front element without removing it\n",
    "if queue:\n",
    "    front_element = queue[0]\n",
    "    print(\"Element in front of Queue is now:\", front_element)\n",
    "    print(queue)\n",
    "    \n",
    "# Check if the queue is empty\n",
    "if not queue:\n",
    "    print(\"Queue is empty\")\n"
   ]
  },
  {
   "cell_type": "markdown",
   "metadata": {},
   "source": [
    "##### Stack Linked List"
   ]
  },
  {
   "cell_type": "code",
   "execution_count": 60,
   "metadata": {},
   "outputs": [
    {
     "name": "stdout",
     "output_type": "stream",
     "text": [
      "Elements in Stack:  ['5', '4', '3', '2', '1']\n",
      "\n",
      "Popped Element at Position 3 is: 3\n",
      "Element in Top of stack is now: 5\n",
      "['5', '4', '2', '1']\n"
     ]
    }
   ],
   "source": [
    "stack = []\n",
    "\n",
    "# Take user input to push elements onto the stack\n",
    "n = int(input(\"Enter the number of elements to push onto the stack: \"))\n",
    "for i in range(n):\n",
    "    element = input(f\"Enter element {i + 1}: \")\n",
    "    stack.append(element)\n",
    "\n",
    "reversed_stack = list(reversed(stack))\n",
    "print(\"Elements in Stack: \", reversed_stack)     # Stack after user input\n",
    "\n",
    "# Pop an element from the stack\n",
    "if stack:\n",
    "    num = int(input(\"Enter position of number to pop\")) - 1\n",
    "    popped_element = stack.pop(num)\n",
    "    print(f\"\\nPopped Element at Position {num+1} is: {popped_element}\")\n",
    "\n",
    "# Peek at the top element without removing it\n",
    "if stack:\n",
    "    top_element = stack[-1]\n",
    "    print(\"Element in Top of Stack is now:\", top_element)\n",
    "    print(list(reversed(stack)))\n",
    "\n",
    "# Check if the stack is empty\n",
    "if not stack:\n",
    "    print(\"Stack is empty\")\n"
   ]
  }
 ],
 "metadata": {
  "kernelspec": {
   "display_name": "Python 3",
   "language": "python",
   "name": "python3"
  },
  "language_info": {
   "codemirror_mode": {
    "name": "ipython",
    "version": 3
   },
   "file_extension": ".py",
   "mimetype": "text/x-python",
   "name": "python",
   "nbconvert_exporter": "python",
   "pygments_lexer": "ipython3",
   "version": "3.10.0"
  },
  "orig_nbformat": 4
 },
 "nbformat": 4,
 "nbformat_minor": 2
}
